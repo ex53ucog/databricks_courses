{
 "cells": [
  {
   "cell_type": "markdown",
   "metadata": {
    "application/vnd.databricks.v1+cell": {
     "cellMetadata": {},
     "inputWidgets": {},
     "nuid": "5b197084-3c9b-4862-aafa-a3aabbba9afc",
     "showTitle": false,
     "tableResultSettingsMap": {},
     "title": ""
    }
   },
   "source": [
    "https://ai-cookbook.io/10-min-demo/mosaic-ai-agents-demo-dbx-notebook.html"
   ]
  },
  {
   "cell_type": "code",
   "execution_count": 0,
   "metadata": {
    "application/vnd.databricks.v1+cell": {
     "cellMetadata": {
      "byteLimit": 2048000,
      "rowLimit": 10000
     },
     "inputWidgets": {},
     "nuid": "67d631a9-526d-4a98-80c7-431bff05f1ef",
     "showTitle": false,
     "tableResultSettingsMap": {},
     "title": ""
    }
   },
   "outputs": [],
   "source": [
    "%pip install -U -qqqq databricks-agents mlflow mlflow-skinny databricks-vectorsearch databricks-sdk langchain==0.2.1 langchain_core==0.2.5 langchain_community==0.2.4 \n",
    "\n"
   ]
  },
  {
   "cell_type": "code",
   "execution_count": 0,
   "metadata": {
    "application/vnd.databricks.v1+cell": {
     "cellMetadata": {
      "byteLimit": 2048000,
      "rowLimit": 10000
     },
     "inputWidgets": {},
     "nuid": "db373f00-e80f-482e-b12c-7f9870d5ba99",
     "showTitle": false,
     "tableResultSettingsMap": {},
     "title": ""
    }
   },
   "outputs": [],
   "source": [
    "dbutils.library.restartPython()"
   ]
  },
  {
   "cell_type": "code",
   "execution_count": 0,
   "metadata": {
    "application/vnd.databricks.v1+cell": {
     "cellMetadata": {
      "byteLimit": 2048000,
      "rowLimit": 10000
     },
     "inputWidgets": {},
     "nuid": "874a500a-f7b4-4190-ae7e-d33d804eb54c",
     "showTitle": false,
     "tableResultSettingsMap": {},
     "title": ""
    }
   },
   "outputs": [],
   "source": [
    "import os\n",
    "from databricks.sdk.core import DatabricksError\n",
    "from databricks.sdk import WorkspaceClient\n",
    "\n",
    "CURRENT_FOLDER = os.getcwd()\n",
    "QUICK_START_REPO_URL = \"https://github.com/epec254/staging-cookbook.git\"\n",
    "QUICK_START_REPO_URL = \"https://github.com/databricks/genai-cookbook.git\"\n",
    "QUICK_START_REPO_SAVE_FOLDER = \"genai-cookbook\"\n",
    "\n",
    "if os.path.isdir(QUICK_START_REPO_SAVE_FOLDER):\n",
    "    raise Exception(\n",
    "        f\"{QUICK_START_REPO_SAVE_FOLDER} folder already exists, please change the variable QUICK_START_REPO_SAVE_FOLDER to be a non-existant path.\"\n",
    "    )\n",
    "\n",
    "# Clone the repo\n",
    "w = WorkspaceClient()\n",
    "try:\n",
    "    w.repos.create(\n",
    "        url=QUICK_START_REPO_URL, provider=\"github\", path=f\"{CURRENT_FOLDER}/{QUICK_START_REPO_SAVE_FOLDER}\"\n",
    "    )\n",
    "    print(f\"Cloned sample code repo to: {QUICK_START_REPO_SAVE_FOLDER}\")\n",
    "except DatabricksError as e:\n",
    "    if e.error_code == \"RESOURCE_ALREADY_EXISTS\":\n",
    "        print(\"Repo already exists. Skipping creation\")\n",
    "    else:\n",
    "        raise Exception(\n",
    "            f\"Failed to clone the quick start code.  You can manually import this by creating a Git folder from the contents of {QUICK_START_REPO_URL} in the {QUICK_START_REPO_SAVE_FOLDER} folder in your workspace and then re-running this Notebook.\"\n",
    "        )"
   ]
  },
  {
   "cell_type": "code",
   "execution_count": 0,
   "metadata": {
    "application/vnd.databricks.v1+cell": {
     "cellMetadata": {
      "byteLimit": 2048000,
      "rowLimit": 10000
     },
     "inputWidgets": {},
     "nuid": "e83c9a00-536a-4ef8-93d7-b5a2f4308e37",
     "showTitle": false,
     "tableResultSettingsMap": {},
     "title": ""
    }
   },
   "outputs": [],
   "source": [
    "# Use the current user name to create any necesary resources\n",
    "w = WorkspaceClient()\n",
    "user_name = w.current_user.me().user_name.split(\"@\")[0].replace(\".\", \"\")\n",
    "\n",
    "# UC Catalog & Schema where outputs tables/indexs are saved\n",
    "# If this catalog/schema does not exist, you need create catalog/schema permissions.\n",
    "UC_CATALOG = f'{user_name}_catalog'\n",
    "UC_CATALOG = \"rag_m1_release\"\n",
    "UC_SCHEMA = f'rag_{user_name}'\n",
    "UC_SCHEMA = \"10_mins\"\n",
    "\n",
    "# UC Model name where the POC chain is logged\n",
    "UC_MODEL_NAME = f\"{UC_CATALOG}.{UC_SCHEMA}.{user_name}_agent_quick_start\"\n",
    "\n",
    "# Vector Search endpoint where index is loaded\n",
    "# If this does not exist, it will be created\n",
    "VECTOR_SEARCH_ENDPOINT = f'{user_name}_vector_search'"
   ]
  },
  {
   "cell_type": "code",
   "execution_count": 0,
   "metadata": {
    "application/vnd.databricks.v1+cell": {
     "cellMetadata": {
      "byteLimit": 2048000,
      "rowLimit": 10000
     },
     "inputWidgets": {},
     "nuid": "150a02f1-822f-48e4-9b47-2280bb07b2b2",
     "showTitle": false,
     "tableResultSettingsMap": {},
     "title": ""
    }
   },
   "outputs": [],
   "source": [
    "from databricks.sdk import WorkspaceClient\n",
    "from databricks.sdk.service.vectorsearch import EndpointStatusState, EndpointType\n",
    "from databricks.sdk.service.serving import EndpointCoreConfigInput, EndpointStateReady\n",
    "from databricks.sdk.errors import ResourceDoesNotExist\n",
    "import os\n",
    "\n",
    "w = WorkspaceClient()"
   ]
  },
  {
   "cell_type": "code",
   "execution_count": 0,
   "metadata": {
    "application/vnd.databricks.v1+cell": {
     "cellMetadata": {
      "byteLimit": 2048000,
      "rowLimit": 10000
     },
     "inputWidgets": {},
     "nuid": "841ac940-0d43-45c8-abdf-e1354829e425",
     "showTitle": false,
     "tableResultSettingsMap": {},
     "title": ""
    }
   },
   "outputs": [],
   "source": [
    "from databricks.sdk import WorkspaceClient\n",
    "from databricks.sdk.errors import NotFound, PermissionDenied\n",
    "w = WorkspaceClient()\n",
    "\n",
    "# Create UC Catalog if it does not exist, otherwise, raise an exception\n",
    "try:\n",
    "    _ = w.catalogs.get(UC_CATALOG)\n",
    "    print(f\"PASS: UC catalog `{UC_CATALOG}` exists\")\n",
    "except NotFound as e:\n",
    "    print(f\"`{UC_CATALOG}` does not exist, trying to create...\")\n",
    "    try:\n",
    "        _ = w.catalogs.create(name=UC_CATALOG)\n",
    "    except PermissionDenied as e:\n",
    "        print(f\"FAIL: `{UC_CATALOG}` does not exist, and no permissions to create.  Please provide an existing UC Catalog.\")\n",
    "        raise ValueError(f\"Unity Catalog `{UC_CATALOG}` does not exist.\")\n",
    "        \n",
    "# Create UC Schema if it does not exist, otherwise, raise an exception\n",
    "try:\n",
    "    _ = w.schemas.get(full_name=f\"{UC_CATALOG}.{UC_SCHEMA}\")\n",
    "    print(f\"PASS: UC schema `{UC_CATALOG}.{UC_SCHEMA}` exists\")\n",
    "except NotFound as e:\n",
    "    print(f\"`{UC_CATALOG}.{UC_SCHEMA}` does not exist, trying to create...\")\n",
    "    try:\n",
    "        _ = w.schemas.create(name=UC_SCHEMA, catalog_name=UC_CATALOG)\n",
    "        print(f\"PASS: UC schema `{UC_CATALOG}.{UC_SCHEMA}` created\")\n",
    "    except PermissionDenied as e:\n",
    "        print(f\"FAIL: `{UC_CATALOG}.{UC_SCHEMA}` does not exist, and no permissions to create.  Please provide an existing UC Schema.\")\n",
    "        raise ValueError(\"Unity Catalog Schema `{UC_CATALOG}.{UC_SCHEMA}` does not exist.\")"
   ]
  },
  {
   "cell_type": "code",
   "execution_count": 0,
   "metadata": {
    "application/vnd.databricks.v1+cell": {
     "cellMetadata": {
      "byteLimit": 2048000,
      "rowLimit": 10000
     },
     "inputWidgets": {},
     "nuid": "a842c26b-7fea-4d34-b4c2-740cc0126987",
     "showTitle": false,
     "tableResultSettingsMap": {},
     "title": ""
    }
   },
   "outputs": [],
   "source": [
    "# Create the Vector Search endpoint if it does not exist\n",
    "from databricks.sdk import WorkspaceClient\n",
    "from databricks.sdk.service.vectorsearch import EndpointType\n",
    "w = WorkspaceClient()\n",
    "vector_search_endpoints = w.vector_search_endpoints.list_endpoints()\n",
    "if sum([VECTOR_SEARCH_ENDPOINT == ve.name for ve in vector_search_endpoints]) == 0:\n",
    "    print(f\"Please wait, creating Vector Search endpoint `{VECTOR_SEARCH_ENDPOINT}`.  This can take up to 20 minutes...\")\n",
    "    w.vector_search_endpoints.create_endpoint_and_wait(VECTOR_SEARCH_ENDPOINT, endpoint_type=EndpointType.STANDARD)\n",
    "\n",
    "# Make sure vector search endpoint is online and ready.\n",
    "w.vector_search_endpoints.wait_get_endpoint_vector_search_endpoint_online(VECTOR_SEARCH_ENDPOINT)\n",
    "\n",
    "print(f\"PASS: Vector Search endpoint `{VECTOR_SEARCH_ENDPOINT}` exists\")"
   ]
  },
  {
   "cell_type": "markdown",
   "metadata": {
    "application/vnd.databricks.v1+cell": {
     "cellMetadata": {},
     "inputWidgets": {},
     "nuid": "64c61346-1df2-40b8-a214-db3765590913",
     "showTitle": false,
     "tableResultSettingsMap": {},
     "title": ""
    }
   },
   "source": [
    "Create the Vector Search Index"
   ]
  },
  {
   "cell_type": "code",
   "execution_count": 0,
   "metadata": {
    "application/vnd.databricks.v1+cell": {
     "cellMetadata": {},
     "inputWidgets": {},
     "nuid": "f8237270-4d87-400d-8d86-0c3b6fe4b69b",
     "showTitle": false,
     "tableResultSettingsMap": {},
     "title": ""
    }
   },
   "outputs": [],
   "source": [
    " UC locations to store the chunked documents & index\n",
    "CHUNKS_DELTA_TABLE = f\"{UC_CATALOG}.{UC_SCHEMA}.databricks_docs_chunked2\"\n",
    "CHUNKS_VECTOR_INDEX = f\"{UC_CATALOG}.{UC_SCHEMA}.databricks_docs_chunked_index2\""
   ]
  },
  {
   "cell_type": "code",
   "execution_count": 0,
   "metadata": {
    "application/vnd.databricks.v1+cell": {
     "cellMetadata": {},
     "inputWidgets": {},
     "nuid": "3559239d-104d-4ecf-af4b-3f1d1b99c1d7",
     "showTitle": false,
     "tableResultSettingsMap": {},
     "title": ""
    }
   },
   "outputs": [],
   "source": [
    "from pyspark.sql import SparkSession\n",
    "from databricks.vector_search.client import VectorSearchClient\n",
    "\n",
    "# Workspace URL for printing links to the delta table/vector index\n",
    "workspace_url = SparkSession.getActiveSession().conf.get(\n",
    "    \"spark.databricks.workspaceUrl\", None\n",
    ")\n",
    "\n",
    "# Vector Search client\n",
    "vsc = VectorSearchClient(disable_notice=True)\n",
    "\n",
    "# Load the chunked data to Delta Table & enable change-data capture to allow the table to sync to Vector Search\n",
    "chunked_docs_df = spark.read.parquet(\n",
    "    f\"file:{QUICK_START_REPO_SAVE_FOLDER}/quick_start_demo/chunked_databricks_docs.snappy.parquet\"\n",
    ")\n",
    "chunked_docs_df.write.format(\"delta\").saveAsTable(CHUNKS_DELTA_TABLE)\n",
    "spark.sql(\n",
    "    f\"ALTER TABLE {CHUNKS_DELTA_TABLE} SET TBLPROPERTIES (delta.enableChangeDataFeed = true)\"\n",
    ")\n",
    "\n",
    "print(\n",
    "    f\"View Delta Table at: https://{workspace_url}/explore/data/{UC_CATALOG}/{UC_SCHEMA}/{CHUNKS_DELTA_TABLE.split('.')[-1]}\"\n",
    ")\n",
    "\n",
    "# Embed and sync chunks to a vector index\n",
    "print(\n",
    "    f\"Embedding docs & creating Vector Search Index, this will take ~5 - 10 minutes.\\nView Index Status at: https://{workspace_url}/explore/data/{UC_CATALOG}/{UC_SCHEMA}/{CHUNKS_VECTOR_INDEX.split('.')[-1]}\"\n",
    ")\n",
    "\n",
    "index = vsc.create_delta_sync_index_and_wait(\n",
    "    endpoint_name=VECTOR_SEARCH_ENDPOINT,\n",
    "    index_name=CHUNKS_VECTOR_INDEX,\n",
    "    primary_key=\"chunk_id\",\n",
    "    source_table_name=CHUNKS_DELTA_TABLE,\n",
    "    pipeline_type=\"TRIGGERED\",\n",
    "    embedding_source_column=\"chunked_text\",\n",
    "    embedding_model_endpoint_name=\"databricks-gte-large-en\",\n",
    ")"
   ]
  },
  {
   "cell_type": "markdown",
   "metadata": {
    "application/vnd.databricks.v1+cell": {
     "cellMetadata": {},
     "inputWidgets": {},
     "nuid": "2bf058d5-eade-4ea3-adec-a33cf049e583",
     "showTitle": false,
     "tableResultSettingsMap": {},
     "title": ""
    }
   },
   "source": [
    "Deploy to the review application"
   ]
  },
  {
   "cell_type": "code",
   "execution_count": 0,
   "metadata": {
    "application/vnd.databricks.v1+cell": {
     "cellMetadata": {},
     "inputWidgets": {},
     "nuid": "0b384e51-45b8-49fc-b929-12409e697c58",
     "showTitle": false,
     "tableResultSettingsMap": {},
     "title": ""
    }
   },
   "outputs": [],
   "source": []
  }
 ],
 "metadata": {
  "application/vnd.databricks.v1+notebook": {
   "computePreferences": null,
   "dashboards": [],
   "environmentMetadata": {
    "base_environment": "",
    "environment_version": "2"
   },
   "language": "python",
   "notebookMetadata": {
    "pythonIndentUnit": 4
   },
   "notebookName": "Mosaic_AI_Agent",
   "widgets": {}
  },
  "language_info": {
   "name": "python"
  }
 },
 "nbformat": 4,
 "nbformat_minor": 0
}
